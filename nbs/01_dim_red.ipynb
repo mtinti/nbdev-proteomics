{
 "cells": [
  {
   "cell_type": "markdown",
   "metadata": {},
   "source": [
    "# dim_red\n",
    "\n",
    "> Fill in a module description here"
   ]
  },
  {
   "cell_type": "code",
   "execution_count": null,
   "metadata": {},
   "outputs": [],
   "source": [
    "#| default_exp dim_red"
   ]
  },
  {
   "cell_type": "code",
   "execution_count": null,
   "metadata": {},
   "outputs": [],
   "source": [
    "%load_ext autoreload\n",
    "%autoreload 2"
   ]
  },
  {
   "cell_type": "code",
   "execution_count": null,
   "metadata": {},
   "outputs": [],
   "source": [
    "#| hide\n",
    "#| export\n",
    "from nbdev.showdoc import *\n",
    "import pandas as pd\n",
    "import numpy as np\n",
    "import matplotlib.pyplot as plt\n",
    "from sklearn.manifold import MDS\n",
    "from sklearn.preprocessing import StandardScaler\n",
    "from adjustText import adjust_text\n",
    "from sklearn.decomposition import PCA"
   ]
  },
  {
   "cell_type": "code",
   "execution_count": null,
   "metadata": {},
   "outputs": [],
   "source": [
    "#| export\n",
    "def normalize_dataframe(in_df):\n",
    "    sc = StandardScaler()\n",
    "    return pd.DataFrame(sc.fit_transform(in_df),\n",
    "                        index=in_df.index, \n",
    "                        columns=in_df.columns)"
   ]
  },
  {
   "cell_type": "code",
   "execution_count": null,
   "metadata": {},
   "outputs": [],
   "source": [
    "#| export\n",
    "def plot_mds_columns(in_df, colors, color_to_label, figsize=(4,4), annotate=True,adjust=True):\n",
    "    # Normalize the input DataFrame\n",
    "    normalized_df = normalize_dataframe(in_df)\n",
    "\n",
    "    # Perform MDS on the transposed DataFrame (to analyze columns)\n",
    "    mds = MDS(n_components=2)\n",
    "    mds_transformed_columns = mds.fit_transform(normalized_df.T)\n",
    "\n",
    "    # Create a scatter plot of the MDS-transformed column coordinates\n",
    "    fig, ax = plt.subplots(figsize=figsize)\n",
    "    for i, color in enumerate(colors):\n",
    "        ax.scatter(mds_transformed_columns[i, 0], mds_transformed_columns[i, 1],\n",
    "                   alpha=0.8, c=color, marker='D')\n",
    "\n",
    "    if annotate:\n",
    "        # Add column labels\n",
    "        texts = []\n",
    "        for i, column_name in enumerate(in_df.columns):\n",
    "            texts.append(ax.text(mds_transformed_columns[i, 0], mds_transformed_columns[i, 1], \n",
    "                                 column_name, fontsize=12, color='darkslategray'))\n",
    "        \n",
    "        if adjust:\n",
    "            # Adjust the text labels to avoid overlaps\n",
    "            adjust_text(texts, arrowprops=dict(arrowstyle='->', color='red'))\n",
    "\n",
    "    # Create legend\n",
    "    legend_elements = [plt.Line2D([0], [0], linestyle='', marker='D', color=color, label=label, markersize=8)\n",
    "                       for color, label in color_to_label.items()]\n",
    "    ax.legend(handles=legend_elements, loc='center left', bbox_to_anchor=(1, 0.5))\n",
    "\n",
    "    # Set plot labels and title\n",
    "    ax.set_xlabel('MDS Dimension 1', fontsize=10)\n",
    "    ax.set_ylabel('MDS Dimension 2', fontsize=10)\n",
    "    ax.set_title('MDS plot of columns', fontsize=12)\n",
    "\n",
    "    # Customize axis spines\n",
    "    ax.spines['top'].set_visible(False)\n",
    "    ax.spines['right'].set_visible(False)\n",
    "    ax.spines['left'].set_position(('outward', 10))\n",
    "    ax.spines['bottom'].set_position(('outward', 10))\n",
    "\n",
    "    # Show the plot\n",
    "    plt.show()\n",
    "    mds_transformed_columns = pd.DataFrame(mds_transformed_columns)\n",
    "    mds_transformed_columns.columns = ['DIM_1','DIM_2']\n",
    "    mds_transformed_columns.index = normalized_df.columns\n",
    "    #print(normalized_df.head())    \n",
    "    return mds_transformed_columns"
   ]
  },
  {
   "cell_type": "code",
   "execution_count": null,
   "metadata": {},
   "outputs": [
    {
     "data": {
      "image/png": "[encoded data removed]",
      "text/plain": [
       "<Figure size 288x288 with 1 Axes>"
      ]
     },
     "metadata": {
      "needs_background": "light"
     },
     "output_type": "display_data"
    },
    {
     "data": {
      "text/html": [
       "<div>\n",
       "<style scoped>\n",
       "    .dataframe tbody tr th:only-of-type {\n",
       "        vertical-align: middle;\n",
       "    }\n",
       "\n",
       "    .dataframe tbody tr th {\n",
       "        vertical-align: top;\n",
       "    }\n",
       "\n",
       "    .dataframe thead th {\n",
       "        text-align: right;\n",
       "    }\n",
       "</style>\n",
       "<table border=\"1\" class=\"dataframe\">\n",
       "  <thead>\n",
       "    <tr style=\"text-align: right;\">\n",
       "      <th></th>\n",
       "      <th>DIM_1</th>\n",
       "      <th>DIM_2</th>\n",
       "    </tr>\n",
       "  </thead>\n",
       "  <tbody>\n",
       "    <tr>\n",
       "      <th>A</th>\n",
       "      <td>4.052452</td>\n",
       "      <td>4.714738</td>\n",
       "    </tr>\n",
       "    <tr>\n",
       "      <th>B</th>\n",
       "      <td>-4.310441</td>\n",
       "      <td>3.444238</td>\n",
       "    </tr>\n",
       "    <tr>\n",
       "      <th>C</th>\n",
       "      <td>4.433542</td>\n",
       "      <td>-3.371731</td>\n",
       "    </tr>\n",
       "    <tr>\n",
       "      <th>D</th>\n",
       "      <td>-4.175553</td>\n",
       "      <td>-4.787246</td>\n",
       "    </tr>\n",
       "  </tbody>\n",
       "</table>\n",
       "</div>"
      ],
      "text/plain": [
       "      DIM_1     DIM_2\n",
       "A  4.052452  4.714738\n",
       "B -4.310441  3.444238\n",
       "C  4.433542 -3.371731\n",
       "D -4.175553 -4.787246"
      ]
     },
     "execution_count": null,
     "metadata": {},
     "output_type": "execute_result"
    }
   ],
   "source": [
    "sample_data = np.random.rand(50, 4)\n",
    "sample_columns = ['A', 'B', 'C', 'D']\n",
    "sample_index = range(50)\n",
    "sample_df = pd.DataFrame(sample_data, columns=sample_columns, index=sample_index)\n",
    "colors = ['red', 'green', 'blue', 'orange']\n",
    "color_to_label = {'red': 'Label A', 'green': 'Label B', 'blue': 'Label C', 'orange': 'Label D'}\n",
    "\n",
    "tmp_df = plot_mds_columns(sample_df, colors, color_to_label)\n",
    "tmp_df"
   ]
  },
  {
   "cell_type": "code",
   "execution_count": null,
   "metadata": {},
   "outputs": [],
   "source": [
    "#| export\n",
    "def plot_pca_columns(in_df, colors, color_to_label, figsize=(4,4),annotate=True,adjust=True):\n",
    "    # Normalize the input DataFrame\n",
    "    normalized_df = normalize_dataframe(in_df)\n",
    "\n",
    "    # Perform PCA on the transposed DataFrame (to analyze columns)\n",
    "    pca = PCA(n_components=2)\n",
    "    pca_transformed_columns = pca.fit_transform(normalized_df.T)\n",
    "\n",
    "    # Create a scatter plot of the PCA-transformed column coordinates\n",
    "    fig, ax = plt.subplots(figsize=figsize)\n",
    "    for i, color in enumerate(colors):\n",
    "        ax.scatter(pca_transformed_columns[i, 0], pca_transformed_columns[i, 1],\n",
    "                   alpha=0.8, c=color, marker='D')\n",
    "\n",
    "    if annotate:\n",
    "        # Add column labels\n",
    "        texts = []\n",
    "        for i, column_name in enumerate(in_df.columns):\n",
    "            texts.append(ax.text(pca_transformed_columns[i, 0], pca_transformed_columns[i, 1], \n",
    "                                 column_name, fontsize=12, color='darkslategray'))\n",
    "\n",
    "        if adjust:\n",
    "            # Adjust the text labels to avoid overlaps\n",
    "            adjust_text(texts, arrowprops=dict(arrowstyle='->', color='red'))\n",
    "\n",
    "    # Create legend\n",
    "    legend_elements = [plt.Line2D([0], [0], linestyle='', marker='D', color=color, label=label, markersize=8)\n",
    "                       for color, label in color_to_label.items()]\n",
    "    ax.legend(handles=legend_elements, loc='center left', bbox_to_anchor=(1, 0.5))\n",
    "\n",
    "    # Set plot labels and title\n",
    "    ax.set_xlabel(f'PC1 ({pca.explained_variance_ratio_[0] * 100:.2f}%)', fontsize=10)\n",
    "    ax.set_ylabel(f'PC2 ({pca.explained_variance_ratio_[1] * 100:.2f}%)', fontsize=10)\n",
    "    ax.set_title('PCA plot of columns', fontsize=12)\n",
    "\n",
    "    # Customize axis spines\n",
    "    ax.spines['top'].set_visible(False)\n",
    "    ax.spines['right'].set_visible(False)\n",
    "    ax.spines['left'].set_position(('outward', 10))\n",
    "    ax.spines['bottom'].set_position(('outward', 10))\n",
    "\n",
    "    pca_transformed_columns = pd.DataFrame(pca_transformed_columns)\n",
    "    pca_transformed_columns.columns = ['DIM_1','DIM_2']\n",
    "    pca_transformed_columns.index = normalized_df.columns\n",
    "    # Show the plot\n",
    "    plt.show()\n",
    "    return pca_transformed_columns\n"
   ]
  },
  {
   "cell_type": "code",
   "execution_count": null,
   "metadata": {},
   "outputs": [
    {
     "data": {
      "image/png": "[encoded data removed]",
      "text/plain": [
       "<Figure size 576x576 with 1 Axes>"
      ]
     },
     "metadata": {
      "needs_background": "light"
     },
     "output_type": "display_data"
    },
    {
     "data": {
      "text/html": [
       "<div>\n",
       "<style scoped>\n",
       "    .dataframe tbody tr th:only-of-type {\n",
       "        vertical-align: middle;\n",
       "    }\n",
       "\n",
       "    .dataframe tbody tr th {\n",
       "        vertical-align: top;\n",
       "    }\n",
       "\n",
       "    .dataframe thead th {\n",
       "        text-align: right;\n",
       "    }\n",
       "</style>\n",
       "<table border=\"1\" class=\"dataframe\">\n",
       "  <thead>\n",
       "    <tr style=\"text-align: right;\">\n",
       "      <th></th>\n",
       "      <th>DIM_1</th>\n",
       "      <th>DIM_2</th>\n",
       "    </tr>\n",
       "  </thead>\n",
       "  <tbody>\n",
       "    <tr>\n",
       "      <th>A</th>\n",
       "      <td>3.138650</td>\n",
       "      <td>-1.345762</td>\n",
       "    </tr>\n",
       "    <tr>\n",
       "      <th>B</th>\n",
       "      <td>-3.323898</td>\n",
       "      <td>5.193468</td>\n",
       "    </tr>\n",
       "    <tr>\n",
       "      <th>C</th>\n",
       "      <td>-4.393920</td>\n",
       "      <td>-4.358112</td>\n",
       "    </tr>\n",
       "    <tr>\n",
       "      <th>D</th>\n",
       "      <td>4.579168</td>\n",
       "      <td>0.510407</td>\n",
       "    </tr>\n",
       "  </tbody>\n",
       "</table>\n",
       "</div>"
      ],
      "text/plain": [
       "      DIM_1     DIM_2\n",
       "A  3.138650 -1.345762\n",
       "B -3.323898  5.193468\n",
       "C -4.393920 -4.358112\n",
       "D  4.579168  0.510407"
      ]
     },
     "execution_count": null,
     "metadata": {},
     "output_type": "execute_result"
    }
   ],
   "source": [
    "sample_data = np.random.rand(50, 4)\n",
    "sample_columns = ['A', 'B', 'C', 'D']\n",
    "sample_index = range(50)\n",
    "sample_df = pd.DataFrame(sample_data, columns=sample_columns, index=sample_index)\n",
    "colors = ['red', 'green', 'blue', 'orange']\n",
    "color_to_label = {'red': 'Label A', 'green': 'Label B', 'blue': 'Label C', 'orange': 'Label D'}\n",
    "temp_df = plot_pca_columns(sample_df, colors, color_to_label,figsize=(8,8))\n",
    "temp_df"
   ]
  },
  {
   "cell_type": "code",
   "execution_count": null,
   "metadata": {},
   "outputs": [],
   "source": [
    "#| export\n",
    "def top_n_rows_driving_columns(df, column_1, column_2, component=0, n=5, direction='togheter'):\n",
    "    # Normalize the DataFrame\n",
    "    normalized_df = normalize_dataframe(df)\n",
    "\n",
    "    # Perform PCA on the normalized DataFrame\n",
    "    pca = PCA(n_components=2)\n",
    "    pca_transformed_data = pca.fit_transform(normalized_df)\n",
    "\n",
    "    # Find the weights of the two columns in the principal components\n",
    "    column_1_weights = pca.components_[:, df.columns.get_loc(column_1)]\n",
    "    column_2_weights = pca.components_[:, df.columns.get_loc(column_2)]\n",
    "\n",
    "    # Calculate the scores of the rows (samples) in the reduced-dimensional space\n",
    "    row_scores = pca_transformed_data @ np.column_stack((column_1_weights, column_2_weights)).T\n",
    "\n",
    "\n",
    "    # Find the top n samples that drive the two specified columns closer together in the specified component\n",
    "    if direction=='togheter':\n",
    "        top_samples_indices = row_scores[:, component].argsort()[:n]\n",
    "    # Find the top n samples that drive the two specified columns apart in the specified component\n",
    "    else:\n",
    "        top_samples_indices = row_scores[:, component].argsort()[-n:][::-1]\n",
    "    # Get the row IDs corresponding to the top samples\n",
    "    top_sample_ids = df.index[top_samples_indices].tolist()\n",
    "\n",
    "    return top_sample_ids  "
   ]
  },
  {
   "cell_type": "code",
   "execution_count": null,
   "metadata": {},
   "outputs": [
    {
     "name": "stdout",
     "output_type": "stream",
     "text": [
      "[41, 10, 20]\n",
      "[3, 30, 38]\n"
     ]
    }
   ],
   "source": [
    "sample_data = np.random.rand(50, 4)\n",
    "sample_columns = ['A', 'B', 'C', 'D']\n",
    "sample_index = range(50)\n",
    "sample_df = pd.DataFrame(sample_data, columns=sample_columns, index=sample_index)\n",
    "print(top_n_rows_driving_columns(sample_df, 'A', 'B', component=0, n=3, direction='apart'))\n",
    "print(top_n_rows_driving_columns(sample_df, 'A', 'B', component=0, n=3, direction='togheter'))"
   ]
  },
  {
   "cell_type": "code",
   "execution_count": null,
   "metadata": {},
   "outputs": [],
   "source": []
  },
  {
   "cell_type": "code",
   "execution_count": null,
   "metadata": {},
   "outputs": [],
   "source": [
    "#filtered_quantification.tail(50)"
   ]
  },
  {
   "cell_type": "code",
   "execution_count": null,
   "metadata": {},
   "outputs": [],
   "source": [
    "#| hide\n",
    "import nbdev; nbdev.nbdev_export()"
   ]
  },
  {
   "cell_type": "code",
   "execution_count": null,
   "metadata": {},
   "outputs": [],
   "source": []
  }
 ],
 "metadata": {
  "kernelspec": {
   "display_name": "python3",
   "language": "python",
   "name": "python3"
  }
 },
 "nbformat": 4,
 "nbformat_minor": 4
}
